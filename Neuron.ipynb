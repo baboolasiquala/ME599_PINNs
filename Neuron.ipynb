{
  "cells": [
    {
      "cell_type": "markdown",
      "metadata": {
        "id": "8SQy5zMkyv_9"
      },
      "source": [
        "### Reference\n",
        "\n",
        "**Github Repo** : https://github.com/maziarraissi/PINNs\n",
        "\n",
        "@article{raissi2017physicsI,\n",
        "  title={Physics Informed Deep Learning (Part I): Data-driven Solutions of Nonlinear Partial Differential Equations},\n",
        "  author={Raissi, Maziar and Perdikaris, Paris and Karniadakis, George Em},\n",
        "  journal={arXiv preprint arXiv:1711.10561},\n",
        "  year={2017}\n",
        "}\n",
        "\n",
        "@article{raissi2017physicsII,\n",
        "  title={Physics Informed Deep Learning (Part II): Data-driven Discovery of Nonlinear Partial Differential Equations},\n",
        "  author={Raissi, Maziar and Perdikaris, Paris and Karniadakis, George Em},\n",
        "  journal={arXiv preprint arXiv:1711.10566},\n",
        "  year={2017}\n",
        "}"
      ]
    },
    {
      "cell_type": "markdown",
      "metadata": {
        "id": "x6Cb8Aj3ywAA"
      },
      "source": [
        "## Libraries and Dependencies"
      ]
    },
    {
      "cell_type": "code",
      "execution_count": 1,
      "metadata": {
        "colab": {
          "base_uri": "https://localhost:8080/"
        },
        "id": "wsfzMDywywAB",
        "outputId": "be360d31-0f7c-4fd6-c3a1-fceb6027f333"
      },
      "outputs": [
        {
          "output_type": "stream",
          "name": "stdout",
          "text": [
            "Looking in indexes: https://pypi.org/simple, https://us-python.pkg.dev/colab-wheels/public/simple/\n",
            "Collecting pyDOE\n",
            "  Downloading pyDOE-0.3.8.zip (22 kB)\n",
            "Requirement already satisfied: numpy in /usr/local/lib/python3.7/dist-packages (from pyDOE) (1.21.6)\n",
            "Requirement already satisfied: scipy in /usr/local/lib/python3.7/dist-packages (from pyDOE) (1.4.1)\n",
            "Building wheels for collected packages: pyDOE\n",
            "  Building wheel for pyDOE (setup.py) ... \u001b[?25l\u001b[?25hdone\n",
            "  Created wheel for pyDOE: filename=pyDOE-0.3.8-py3-none-any.whl size=18184 sha256=7a45c95d158e5ea1e160862645b0a9be28155a8ce8d38bba5d146eb737998fe7\n",
            "  Stored in directory: /root/.cache/pip/wheels/83/ce/8a/87b25c685bfeca1872d13b8dc101e087a9c6e3fb5ebb47022a\n",
            "Successfully built pyDOE\n",
            "Installing collected packages: pyDOE\n",
            "Successfully installed pyDOE-0.3.8\n"
          ]
        }
      ],
      "source": [
        "import sys\n",
        "sys.path.insert(0, '../Utilities/')\n",
        "\n",
        "import torch\n",
        "from collections import OrderedDict\n",
        "\n",
        "!pip install pyDOE\n",
        "from pyDOE import lhs\n",
        "import numpy as np\n",
        "import matplotlib.pyplot as plt\n",
        "import scipy.io\n",
        "from scipy.interpolate import griddata\n",
        "\n",
        "# from plotting import newfig, savefig\n",
        "from mpl_toolkits.axes_grid1 import make_axes_locatable\n",
        "import matplotlib.gridspec as gridspec\n",
        "import time\n",
        "\n",
        "np.random.seed(1234)"
      ]
    },
    {
      "cell_type": "code",
      "execution_count": 2,
      "metadata": {
        "id": "SV6OyUwiywAD"
      },
      "outputs": [],
      "source": [
        "# CUDA support \n",
        "if torch.cuda.is_available():\n",
        "    device = torch.device('cuda')\n",
        "else:\n",
        "    device = torch.device('cpu')"
      ]
    },
    {
      "cell_type": "markdown",
      "metadata": {
        "id": "70wyGjK4ywAD"
      },
      "source": [
        "## Physics-informed Neural Networks"
      ]
    },
    {
      "cell_type": "code",
      "execution_count": 3,
      "metadata": {
        "id": "UkT1YbrkywAE"
      },
      "outputs": [],
      "source": [
        "# the deep neural network\n",
        "class DNN(torch.nn.Module):\n",
        "    def __init__(self, layers):\n",
        "        super(DNN, self).__init__()\n",
        "        \n",
        "        # parameters\n",
        "        self.depth = len(layers) - 1\n",
        "        \n",
        "        # set up layer order dict\n",
        "        self.activation = torch.nn.Tanh\n",
        "        \n",
        "        layer_list = list()\n",
        "        for i in range(self.depth - 1): \n",
        "            layer_list.append(\n",
        "                ('layer_%d' % i, torch.nn.Linear(layers[i], layers[i+1]))\n",
        "            )\n",
        "            layer_list.append(('activation_%d' % i, self.activation()))\n",
        "            \n",
        "        layer_list.append(\n",
        "            ('layer_%d' % (self.depth - 1), torch.nn.Linear(layers[-2], layers[-1]))\n",
        "        )\n",
        "        layerDict = OrderedDict(layer_list)\n",
        "        \n",
        "        # deploy layers\n",
        "        self.layers = torch.nn.Sequential(layerDict)\n",
        "        \n",
        "    def forward(self, x):\n",
        "        out = self.layers(x)\n",
        "        return out"
      ]
    },
    {
      "cell_type": "code",
      "execution_count": 4,
      "metadata": {
        "id": "CjV3Efa8ywAF"
      },
      "outputs": [],
      "source": [
        "# the physics-guided neural network\n",
        "class PhysicsInformedNN():\n",
        "    def __init__(self, X_u, u, X_f, layers, lb, ub, nu):\n",
        "        \n",
        "        # boundary conditions\n",
        "        self.lb = torch.tensor(lb).float().to(device)\n",
        "        self.ub = torch.tensor(ub).float().to(device)\n",
        "        \n",
        "        # data\n",
        "        self.x_u = torch.tensor(X_u[:, 0:1], requires_grad=True).float().to(device)\n",
        "        self.t_u = torch.tensor(X_u[:, 1:2], requires_grad=True).float().to(device)\n",
        "        self.x_f = torch.tensor(X_f[:, 0:1], requires_grad=True).float().to(device)\n",
        "        self.t_f = torch.tensor(X_f[:, 1:2], requires_grad=True).float().to(device)\n",
        "        self.u = torch.tensor(u).float().to(device)\n",
        "        \n",
        "        self.layers = layers\n",
        "        self.nu = nu\n",
        "        \n",
        "        # deep neural networks\n",
        "        self.dnn = DNN(layers).to(device)\n",
        "        \n",
        "        # optimizers: using the same settings\n",
        "        self.optimizer = torch.optim.LBFGS(\n",
        "            self.dnn.parameters(), \n",
        "            lr=1.0, \n",
        "            max_iter=50000, \n",
        "            max_eval=50000, \n",
        "            history_size=50,\n",
        "            tolerance_grad=1e-5, \n",
        "            tolerance_change=1.0 * np.finfo(float).eps,\n",
        "            line_search_fn=\"strong_wolfe\"       # can be \"strong_wolfe\"\n",
        "        )\n",
        "\n",
        "        self.iter = 0\n",
        "        self.ls_tot = []\n",
        "        self.ls_u = []\n",
        "        self.ls_f = []\n",
        "        \n",
        "    def net_u(self, x, t):  \n",
        "        u = self.dnn(torch.cat([x, t], dim=1))\n",
        "        return u\n",
        "    \n",
        "    def net_f(self, x, t):\n",
        "        \"\"\" The pytorch autograd version of calculating residual \"\"\"\n",
        "        u = self.net_u(x, t)\n",
        "        \n",
        "        u_t = torch.autograd.grad(\n",
        "            u, t, \n",
        "            grad_outputs=torch.ones_like(u),\n",
        "            retain_graph=True,\n",
        "            create_graph=True\n",
        "        )[0]\n",
        "        u_x = torch.autograd.grad(\n",
        "            u, x, \n",
        "            grad_outputs=torch.ones_like(u),\n",
        "            retain_graph=True,\n",
        "            create_graph=True\n",
        "        )[0]\n",
        "        u_xx = torch.autograd.grad(\n",
        "            u_x, x, \n",
        "            grad_outputs=torch.ones_like(u_x),\n",
        "            retain_graph=True,\n",
        "            create_graph=True\n",
        "        )[0]\n",
        "        \n",
        "        f = u_t - self.nu * u_xx\n",
        "        return f\n",
        "    # def stor(self):\n",
        "\n",
        "    \n",
        "    def loss_func(self):\n",
        "        self.optimizer.zero_grad()\n",
        "        \n",
        "        u_pred = self.net_u(self.x_u, self.t_u)\n",
        "        f_pred = self.net_f(self.x_f, self.t_f)\n",
        "        loss_u = torch.mean((self.u - u_pred) ** 2)\n",
        "        loss_f = torch.mean(f_pred ** 2)\n",
        "        \n",
        "        loss = loss_u + loss_f\n",
        "        \n",
        "        loss.backward()\n",
        "        self.iter += 1\n",
        "        if self.iter % 100 == 0:\n",
        "            print(\n",
        "                'Iter %d, Loss: %.5e, Loss_u: %.5e, Loss_f: %.5e' % (self.iter, loss.item(), loss_u.item(), loss_f.item())\n",
        "            )\n",
        "        self.ls_tot.append(loss.item())\n",
        "        self.ls_u.append(loss_u.item())\n",
        "        self.ls_f.append(loss_f.item())\n",
        "        return loss\n",
        "    \n",
        "    def train(self):\n",
        "        self.dnn.train()\n",
        "                \n",
        "        # Backward and optimize\n",
        "        self.optimizer.step(self.loss_func)\n",
        "\n",
        "            \n",
        "    def predict(self, X):\n",
        "        x = torch.tensor(X[:, 0:1], requires_grad=True).float().to(device)\n",
        "        t = torch.tensor(X[:, 1:2], requires_grad=True).float().to(device)\n",
        "\n",
        "        self.dnn.eval()\n",
        "        u = self.net_u(x, t)\n",
        "        f = self.net_f(x, t)\n",
        "        u = u.detach().cpu().numpy()\n",
        "        f = f.detach().cpu().numpy()\n",
        "        return u, f"
      ]
    },
    {
      "cell_type": "markdown",
      "metadata": {
        "id": "uvDydwR7ywAG"
      },
      "source": [
        "## Configurations"
      ]
    },
    {
      "cell_type": "code",
      "execution_count": 5,
      "metadata": {
        "colab": {
          "base_uri": "https://localhost:8080/",
          "height": 409
        },
        "id": "Auhp6zhLywAH",
        "outputId": "be99cf9b-f3a4-449d-c639-26f0890bfe77"
      },
      "outputs": [
        {
          "output_type": "execute_result",
          "data": {
            "text/plain": [
              "<matplotlib.colorbar.Colorbar at 0x7f997119b210>"
            ]
          },
          "metadata": {},
          "execution_count": 5
        },
        {
          "output_type": "display_data",
          "data": {
            "text/plain": [
              "<Figure size 720x432 with 2 Axes>"
            ],
            "image/png": "[encoded data removed]"
          },
          "metadata": {
            "needs_background": "light"
          }
        }
      ],
      "source": [
        "xn = 100\n",
        "tn = 1000\n",
        "\n",
        "x = np.linspace(0,1,xn)\n",
        "t = np.linspace(0,1,tn)\n",
        "\n",
        "T_,X = np.meshgrid(t,x)\n",
        "\n",
        "# plt.rcParams['figure.figsize'] = [10,10]\n",
        "\n",
        "dt = 1/tn\n",
        "T = 1\n",
        "mu = 0.05\n",
        "dx = 1/xn\n",
        "\n",
        "# Fourier number / Stability < 0.5\n",
        "lamb = (dt*mu)/dx**2\n",
        "\n",
        "U = np.zeros((X.shape[0], X.shape[1])) #  SPACE X TIME\n",
        "\n",
        "# Domain Initialization\n",
        "U[:,0] = 0.5\n",
        "#for i in range(100):\n",
        "    #U[i,0] = 0.4*np.sin(2*np.pi*i)\n",
        "\n",
        "# Boundary conditions\n",
        "U[0,:] = 1\n",
        "U[X.shape[0]-1,:] = 1\n",
        "\n",
        "RAD = 1\n",
        "f = 0\n",
        "\n",
        "# Finite difference method on 1D\n",
        "for k in range(1,U.shape[1]):\n",
        "    for i in range(RAD, U.shape[0]-RAD):\n",
        "        U[i,k] = U[i,k-1] + lamb*(U[i-RAD,k-1] + U[i+RAD,k-1] - 2*U[i,k-1])\n",
        "\n",
        "plt.figure(1,figsize=(10,6))\n",
        "levels = plt.MaxNLocator(nbins=100).tick_values(U.min(), U.max())\n",
        "IM2 = plt.contourf(T_,X,U,levels=levels,cmap=plt.get_cmap('rainbow'))\n",
        "plt.xticks()\n",
        "plt.yticks()\n",
        "plt.xlabel('time')\n",
        "plt.ylabel('x')\n",
        "plt.colorbar()"
      ]
    },
    {
      "cell_type": "code",
      "execution_count": 9,
      "metadata": {
        "colab": {
          "base_uri": "https://localhost:8080/"
        },
        "id": "fndIJsTNywAH",
        "outputId": "4aeeaa2b-f2d3-40ac-8f2e-b83e8402886e"
      },
      "outputs": [
        {
          "output_type": "execute_result",
          "data": {
            "text/plain": [
              "0.5"
            ]
          },
          "metadata": {},
          "execution_count": 9
        }
      ],
      "source": [
        "# For FTCS stability, lambda (Fourier number) <= 0.5\n",
        "lamb"
      ]
    },
    {
      "cell_type": "code",
      "execution_count": 6,
      "metadata": {
        "id": "Tp9Tsn3mywAI"
      },
      "outputs": [],
      "source": [
        "nu = 0.05 # Mu diffusivity\n",
        "noise = 0.0        \n",
        "\n",
        "N_u = 1000 # Number of Boundary Points\n",
        "N_f = 10000 # 25,000, This is total number of points in your system \n",
        "\n",
        "layers = [2, 20, 20, 20, 20, 20, 20, 20, 20, 1] # Original\n",
        "\n",
        "t = t.flatten()[:,None]\n",
        "x = x.flatten()[:,None]\n",
        "\n",
        "Exact = U.T\n",
        "\n",
        "X, T = np.meshgrid(x,t)\n",
        "\n",
        "X_star = np.hstack((X.flatten()[:,None], T.flatten()[:,None]))\n",
        "u_star = Exact.flatten()[:,None]\n",
        "\n",
        "# Doman bounds\n",
        "lb = X_star.min(0)\n",
        "ub = X_star.max(0) \n",
        "\n",
        "# Upper boundary\n",
        "xx1 = np.hstack((X[0:1,:].T, T[0:1,:].T))\n",
        "uu1 = Exact[0:1,:].T\n",
        "\n",
        "# Lower boundary\n",
        "xx4 = np.hstack((X[-1:,:].T, T[-1:,:].T))\n",
        "uu4 = Exact[-1:,:].T\n",
        "\n",
        "# Initial condition at t = 0\n",
        "xx2 = np.hstack((X[:,0:1], T[:,0:1]))\n",
        "uu2 = Exact[:,0:1]\n",
        "\n",
        "# final condition\n",
        "xx3 = np.hstack((X[:,-1:], T[:,-1:]))\n",
        "uu3 = Exact[:,-1:]\n",
        "\n",
        "X_u_train = np.vstack([xx1, xx2, xx3])\n",
        "\n",
        "X_f_train = lb + (ub-lb)*lhs(2, N_f)\n",
        "X_f_train = np.vstack((X_f_train, X_u_train))\n",
        "u_train = np.vstack([uu1, uu2, uu3])\n",
        "\n",
        "idx = np.random.choice(X_u_train.shape[0], N_u, replace=False)\n",
        "X_u_train = X_u_train[idx, :]\n",
        "u_train = u_train[idx,:]"
      ]
    },
    {
      "cell_type": "markdown",
      "metadata": {
        "id": "KcmMOgGWywAJ"
      },
      "source": [
        "## Training"
      ]
    },
    {
      "cell_type": "code",
      "execution_count": 7,
      "metadata": {
        "id": "DWUjas88ywAJ"
      },
      "outputs": [],
      "source": [
        "model = PhysicsInformedNN(X_u_train, u_train, X_f_train, layers, lb, ub, nu)"
      ]
    },
    {
      "cell_type": "code",
      "execution_count": 8,
      "metadata": {
        "colab": {
          "base_uri": "https://localhost:8080/"
        },
        "id": "AOJ7whIOywAJ",
        "outputId": "4e5e7190-aa31-4a67-f8e8-be69b879d7ff"
      },
      "outputs": [
        {
          "output_type": "stream",
          "name": "stdout",
          "text": [
            "Iter 100, Loss: 4.42881e-03, Loss_u: 3.67959e-03, Loss_f: 7.49227e-04\n",
            "Iter 200, Loss: 2.18689e-03, Loss_u: 2.02995e-03, Loss_f: 1.56934e-04\n",
            "Iter 300, Loss: 1.95513e-03, Loss_u: 1.93879e-03, Loss_f: 1.63450e-05\n",
            "Iter 400, Loss: 1.92652e-03, Loss_u: 1.89808e-03, Loss_f: 2.84418e-05\n",
            "Iter 500, Loss: 1.90443e-03, Loss_u: 1.86655e-03, Loss_f: 3.78722e-05\n",
            "Iter 600, Loss: 1.87326e-03, Loss_u: 1.82499e-03, Loss_f: 4.82687e-05\n",
            "Iter 700, Loss: 1.84102e-03, Loss_u: 1.78101e-03, Loss_f: 6.00158e-05\n",
            "Iter 800, Loss: 1.77482e-03, Loss_u: 1.66797e-03, Loss_f: 1.06847e-04\n",
            "Iter 900, Loss: 1.50460e-03, Loss_u: 1.42614e-03, Loss_f: 7.84558e-05\n",
            "Iter 1000, Loss: 1.17593e-03, Loss_u: 1.07748e-03, Loss_f: 9.84516e-05\n",
            "Iter 1100, Loss: 8.84416e-04, Loss_u: 7.41768e-04, Loss_f: 1.42649e-04\n",
            "Iter 1200, Loss: 6.70417e-04, Loss_u: 5.55122e-04, Loss_f: 1.15294e-04\n",
            "Iter 1300, Loss: 5.11110e-04, Loss_u: 4.04963e-04, Loss_f: 1.06148e-04\n",
            "Iter 1400, Loss: 4.26468e-04, Loss_u: 3.35751e-04, Loss_f: 9.07167e-05\n",
            "Iter 1500, Loss: 3.64464e-04, Loss_u: 2.83831e-04, Loss_f: 8.06331e-05\n",
            "Iter 1600, Loss: 3.11405e-04, Loss_u: 2.39842e-04, Loss_f: 7.15634e-05\n",
            "Iter 1700, Loss: 2.69402e-04, Loss_u: 2.27494e-04, Loss_f: 4.19089e-05\n",
            "Iter 1800, Loss: 2.37045e-04, Loss_u: 1.98361e-04, Loss_f: 3.86843e-05\n",
            "Iter 1900, Loss: 2.06559e-04, Loss_u: 1.75281e-04, Loss_f: 3.12783e-05\n",
            "Iter 2000, Loss: 1.87151e-04, Loss_u: 1.58509e-04, Loss_f: 2.86420e-05\n",
            "Iter 2100, Loss: 1.74222e-04, Loss_u: 1.49190e-04, Loss_f: 2.50316e-05\n",
            "Iter 2200, Loss: 1.65113e-04, Loss_u: 1.39983e-04, Loss_f: 2.51306e-05\n",
            "Iter 2300, Loss: 1.55554e-04, Loss_u: 1.32857e-04, Loss_f: 2.26971e-05\n",
            "Iter 2400, Loss: 1.44308e-04, Loss_u: 1.20542e-04, Loss_f: 2.37660e-05\n",
            "Iter 2500, Loss: 1.38294e-04, Loss_u: 1.14152e-04, Loss_f: 2.41425e-05\n",
            "Iter 2600, Loss: 1.27498e-04, Loss_u: 1.02404e-04, Loss_f: 2.50939e-05\n",
            "Iter 2700, Loss: 1.18024e-04, Loss_u: 9.67877e-05, Loss_f: 2.12361e-05\n",
            "Iter 2800, Loss: 1.12770e-04, Loss_u: 9.07634e-05, Loss_f: 2.20067e-05\n",
            "Iter 2900, Loss: 1.07554e-04, Loss_u: 8.68620e-05, Loss_f: 2.06918e-05\n",
            "Iter 3000, Loss: 1.03292e-04, Loss_u: 8.37020e-05, Loss_f: 1.95901e-05\n",
            "Iter 3100, Loss: 9.80761e-05, Loss_u: 7.83385e-05, Loss_f: 1.97376e-05\n",
            "Iter 3200, Loss: 9.47516e-05, Loss_u: 7.75349e-05, Loss_f: 1.72167e-05\n",
            "Iter 3300, Loss: 9.09003e-05, Loss_u: 7.43170e-05, Loss_f: 1.65833e-05\n",
            "Iter 3400, Loss: 8.74359e-05, Loss_u: 6.89704e-05, Loss_f: 1.84655e-05\n",
            "Iter 3500, Loss: 8.50850e-05, Loss_u: 6.72487e-05, Loss_f: 1.78362e-05\n",
            "Iter 3600, Loss: 8.15295e-05, Loss_u: 6.46319e-05, Loss_f: 1.68976e-05\n",
            "Iter 3700, Loss: 7.92431e-05, Loss_u: 6.29401e-05, Loss_f: 1.63030e-05\n",
            "Iter 3800, Loss: 7.62288e-05, Loss_u: 6.00221e-05, Loss_f: 1.62067e-05\n",
            "Iter 3900, Loss: 7.34472e-05, Loss_u: 5.70416e-05, Loss_f: 1.64056e-05\n",
            "Iter 4000, Loss: 7.07980e-05, Loss_u: 5.40338e-05, Loss_f: 1.67642e-05\n",
            "Iter 4100, Loss: 6.83914e-05, Loss_u: 5.07214e-05, Loss_f: 1.76700e-05\n",
            "Iter 4200, Loss: 6.59383e-05, Loss_u: 4.76226e-05, Loss_f: 1.83157e-05\n",
            "Iter 4300, Loss: 6.34223e-05, Loss_u: 4.54394e-05, Loss_f: 1.79830e-05\n",
            "Iter 4400, Loss: 6.14910e-05, Loss_u: 4.41084e-05, Loss_f: 1.73826e-05\n",
            "Iter 4500, Loss: 5.89943e-05, Loss_u: 4.06434e-05, Loss_f: 1.83509e-05\n",
            "Iter 4600, Loss: 5.73572e-05, Loss_u: 3.88721e-05, Loss_f: 1.84852e-05\n",
            "Iter 4700, Loss: 5.45748e-05, Loss_u: 3.73770e-05, Loss_f: 1.71979e-05\n",
            "Iter 4800, Loss: 5.20397e-05, Loss_u: 3.35042e-05, Loss_f: 1.85355e-05\n",
            "Iter 4900, Loss: 5.01599e-05, Loss_u: 3.18304e-05, Loss_f: 1.83294e-05\n",
            "Iter 5000, Loss: 4.86403e-05, Loss_u: 3.10939e-05, Loss_f: 1.75464e-05\n",
            "Iter 5100, Loss: 4.76473e-05, Loss_u: 3.10155e-05, Loss_f: 1.66318e-05\n",
            "CPU times: user 13min 26s, sys: 25.8 s, total: 13min 52s\n",
            "Wall time: 13min 51s\n"
          ]
        }
      ],
      "source": [
        "%%time\n",
        "               \n",
        "model.train()"
      ]
    },
    {
      "cell_type": "code",
      "execution_count": 11,
      "metadata": {
        "colab": {
          "base_uri": "https://localhost:8080/"
        },
        "id": "QQCEITtFywAK",
        "outputId": "f4a99c71-07f1-444b-d18e-fc3076cd8859"
      },
      "outputs": [
        {
          "output_type": "stream",
          "name": "stdout",
          "text": [
            "Error u: 7.135843e-03\n"
          ]
        }
      ],
      "source": [
        "u_pred, f_pred = model.predict(X_star)\n",
        "\n",
        "error_u = np.linalg.norm(u_star-u_pred,2)/np.linalg.norm(u_star,2)\n",
        "print('Error u: %e' % (error_u))                     \n",
        "\n",
        "U_pred = griddata(X_star, u_pred.flatten(), (X, T), method='cubic')\n",
        "Error = np.abs(Exact - U_pred)"
      ]
    },
    {
      "cell_type": "markdown",
      "metadata": {
        "id": "bwOn1evAywAL"
      },
      "source": [
        "## Visualizations"
      ]
    },
    {
      "cell_type": "code",
      "execution_count": 12,
      "metadata": {
        "colab": {
          "base_uri": "https://localhost:8080/",
          "height": 373
        },
        "id": "-kVShS3YywAM",
        "outputId": "63cd6b23-1a2e-4ba6-f662-f5f5ec2b7bf6"
      },
      "outputs": [
        {
          "output_type": "display_data",
          "data": {
            "text/plain": [
              "<Figure size 648x360 with 2 Axes>"
            ],
            "image/png": "[encoded data removed]"
          },
          "metadata": {
            "needs_background": "light"
          }
        }
      ],
      "source": [
        "\"\"\" The aesthetic setting has changed. \"\"\"\n",
        "\n",
        "####### Row 0: u(t,x) ##################    \n",
        "\n",
        "fig = plt.figure(figsize=(9, 5))\n",
        "ax = fig.add_subplot(111)\n",
        "\n",
        "h = ax.imshow(U_pred.T, interpolation='nearest', cmap='rainbow', \n",
        "              extent=[t.min(), t.max(), x.min(), x.max()], \n",
        "              origin='lower', aspect='auto')\n",
        "divider = make_axes_locatable(ax)\n",
        "cax = divider.append_axes(\"right\", size=\"5%\", pad=0.10)\n",
        "cbar = fig.colorbar(h, cax=cax)\n",
        "cbar.ax.tick_params(labelsize=15) \n",
        "\n",
        "ax.plot(\n",
        "    X_u_train[:,1], \n",
        "    X_u_train[:,0], \n",
        "    'kx', label = 'Data (%d points)' % (u_train.shape[0]), \n",
        "    markersize = 4,  # marker size doubled\n",
        "    clip_on = False,\n",
        "    alpha=1.0\n",
        ")\n",
        "\n",
        "line = np.linspace(x.min(), x.max(), 2)[:,None]\n",
        "ax.plot(t[50]*np.ones((2,1)), line, 'w-', linewidth = 1)\n",
        "ax.plot(t[500]*np.ones((2,1)), line, 'w-', linewidth = 1)\n",
        "ax.plot(t[750]*np.ones((2,1)), line, 'w-', linewidth = 1)\n",
        "\n",
        "ax.set_xlabel('$t$', size=20)\n",
        "ax.set_ylabel('$x$', size=20)\n",
        "ax.legend(\n",
        "    loc='upper center', \n",
        "    bbox_to_anchor=(0.9, -0.05), \n",
        "    ncol=5, \n",
        "    frameon=False, \n",
        "    prop={'size': 15}\n",
        ")\n",
        "ax.set_title('$u(t,x)$', fontsize = 20) # font size doubled\n",
        "ax.tick_params(labelsize=15)\n",
        "\n",
        "plt.show()"
      ]
    },
    {
      "cell_type": "code",
      "execution_count": 13,
      "metadata": {
        "colab": {
          "base_uri": "https://localhost:8080/",
          "height": 278
        },
        "id": "creSbv8HywAM",
        "outputId": "9c351d11-2d62-413c-9fdb-3d543de12bc5"
      },
      "outputs": [
        {
          "output_type": "display_data",
          "data": {
            "text/plain": [
              "<Figure size 1008x720 with 3 Axes>"
            ],
            "image/png": "[encoded data removed]"
          },
          "metadata": {
            "needs_background": "light"
          }
        }
      ],
      "source": [
        "####### Row 1: u(t,x) slices ################## \n",
        "\n",
        "\"\"\" The aesthetic setting has changed. \"\"\"\n",
        "\n",
        "fig = plt.figure(figsize=(14, 10))\n",
        "ax = fig.add_subplot(111)\n",
        "\n",
        "gs1 = gridspec.GridSpec(1, 3)\n",
        "gs1.update(top=1-1.0/3.0-0.1, bottom=1.0-2.0/3.0, left=0.1, right=0.9, wspace=0.5)\n",
        "\n",
        "ax = plt.subplot(gs1[0, 0])\n",
        "ax.plot(x,Exact[50,:], 'b-', linewidth = 2, label = 'Exact')       \n",
        "ax.plot(x,U_pred[50,:], 'r--', linewidth = 2, label = 'Prediction')\n",
        "ax.set_xlabel('$x$')\n",
        "ax.set_ylabel('$u(t,x)$')    \n",
        "ax.set_title('$t = 0.25$', fontsize = 15)\n",
        "ax.axis('square')\n",
        "ax.grid()\n",
        "ax.set_xlim([0.0,1.0])\n",
        "ax.set_ylim([0.0,1.0])\n",
        "\n",
        "for item in ([ax.title, ax.xaxis.label, ax.yaxis.label] +\n",
        "             ax.get_xticklabels() + ax.get_yticklabels()):\n",
        "    item.set_fontsize(15)\n",
        "\n",
        "ax = plt.subplot(gs1[0, 1])\n",
        "ax.plot(x,Exact[500,:], 'b-', linewidth = 2, label = 'Exact')       \n",
        "ax.plot(x,U_pred[500,:], 'r--', linewidth = 2, label = 'Prediction')\n",
        "ax.set_xlabel('$x$')\n",
        "ax.set_ylabel('$u(t,x)$')\n",
        "ax.axis('square')\n",
        "ax.set_xlim([0.0,1.0])\n",
        "ax.set_ylim([0.0,1.0])\n",
        "ax.set_title('$t = 0.50$', fontsize = 15)\n",
        "ax.grid()\n",
        "ax.legend(\n",
        "    loc='upper center', \n",
        "    bbox_to_anchor=(0.5, -0.15), \n",
        "    ncol=5, \n",
        "    frameon=False, \n",
        "    prop={'size': 15}\n",
        ")\n",
        "\n",
        "for item in ([ax.title, ax.xaxis.label, ax.yaxis.label] +\n",
        "             ax.get_xticklabels() + ax.get_yticklabels()):\n",
        "    item.set_fontsize(15)\n",
        "\n",
        "ax = plt.subplot(gs1[0, 2])\n",
        "ax.plot(x,Exact[750,:], 'b-', linewidth = 2, label = 'Exact')       \n",
        "ax.plot(x,U_pred[750,:], 'r--', linewidth = 2, label = 'Prediction')\n",
        "ax.set_xlabel('$x$')\n",
        "ax.set_ylabel('$u(t,x)$')\n",
        "ax.axis('square')\n",
        "ax.set_xlim([0.0,1.0])\n",
        "ax.set_ylim([0.0,1.0])    \n",
        "ax.set_title('$t = 0.75$', fontsize = 15)\n",
        "ax.grid()\n",
        "\n",
        "for item in ([ax.title, ax.xaxis.label, ax.yaxis.label] +\n",
        "             ax.get_xticklabels() + ax.get_yticklabels()):\n",
        "    item.set_fontsize(15)\n",
        "\n",
        "plt.show()"
      ]
    },
    {
      "cell_type": "code",
      "source": [
        "from google.colab import drive\n",
        "drive.mount('/content/drive')"
      ],
      "metadata": {
        "colab": {
          "base_uri": "https://localhost:8080/"
        },
        "id": "SFEDEzoZGud2",
        "outputId": "8fde1249-1a16-4a22-f98a-0e2ba754fc6e"
      },
      "execution_count": 15,
      "outputs": [
        {
          "output_type": "stream",
          "name": "stdout",
          "text": [
            "Mounted at /content/drive\n"
          ]
        }
      ]
    },
    {
      "cell_type": "code",
      "source": [
        "!wget -nc https://raw.githubusercontent.com/brpy/colab-pdf/master/colab_pdf.py\n",
        "from colab_pdf import colab_pdf\n",
        "colab_pdf('Neuron.ipynb')"
      ],
      "metadata": {
        "colab": {
          "base_uri": "https://localhost:8080/",
          "height": 556
        },
        "id": "Za-zUv7fG3jH",
        "outputId": "615ddaa5-d2c3-467c-be5f-772306b727f9"
      },
      "execution_count": 16,
      "outputs": [
        {
          "output_type": "stream",
          "name": "stdout",
          "text": [
            "--2022-06-09 15:57:25--  https://raw.githubusercontent.com/brpy/colab-pdf/master/colab_pdf.py\n",
            "Resolving raw.githubusercontent.com (raw.githubusercontent.com)... 185.199.108.133, 185.199.109.133, 185.199.110.133, ...\n",
            "Connecting to raw.githubusercontent.com (raw.githubusercontent.com)|185.199.108.133|:443... connected.\n",
            "HTTP request sent, awaiting response... 200 OK\n",
            "Length: 1864 (1.8K) [text/plain]\n",
            "Saving to: ‘colab_pdf.py’\n",
            "\n",
            "colab_pdf.py        100%[===================>]   1.82K  --.-KB/s    in 0s      \n",
            "\n",
            "2022-06-09 15:57:25 (23.5 MB/s) - ‘colab_pdf.py’ saved [1864/1864]\n",
            "\n",
            "\n",
            "WARNING: apt does not have a stable CLI interface. Use with caution in scripts.\n",
            "\n",
            "\n",
            "WARNING: apt does not have a stable CLI interface. Use with caution in scripts.\n",
            "\n",
            "Extracting templates from packages: 100%\n",
            "[NbConvertApp] Converting notebook /content/drive/MyDrive/Colab Notebooks/Neuron.ipynb to pdf\n",
            "[NbConvertApp] Support files will be in Neuron_files/\n",
            "[NbConvertApp] Making directory ./Neuron_files\n",
            "[NbConvertApp] Making directory ./Neuron_files\n",
            "[NbConvertApp] Making directory ./Neuron_files\n",
            "[NbConvertApp] Writing 71387 bytes to ./notebook.tex\n",
            "[NbConvertApp] Building PDF\n",
            "[NbConvertApp] Running xelatex 3 times: ['xelatex', './notebook.tex', '-quiet']\n",
            "[NbConvertApp] Running bibtex 1 time: ['bibtex', './notebook']\n",
            "[NbConvertApp] WARNING | bibtex had problems, most likely because there were no citations\n",
            "[NbConvertApp] PDF successfully created\n",
            "[NbConvertApp] Writing 150783 bytes to /content/drive/My Drive/Neuron.pdf\n"
          ]
        },
        {
          "output_type": "display_data",
          "data": {
            "text/plain": [
              "<IPython.core.display.Javascript object>"
            ],
            "application/javascript": [
              "\n",
              "    async function download(id, filename, size) {\n",
              "      if (!google.colab.kernel.accessAllowed) {\n",
              "        return;\n",
              "      }\n",
              "      const div = document.createElement('div');\n",
              "      const label = document.createElement('label');\n",
              "      label.textContent = `Downloading \"${filename}\": `;\n",
              "      div.appendChild(label);\n",
              "      const progress = document.createElement('progress');\n",
              "      progress.max = size;\n",
              "      div.appendChild(progress);\n",
              "      document.body.appendChild(div);\n",
              "\n",
              "      const buffers = [];\n",
              "      let downloaded = 0;\n",
              "\n",
              "      const channel = await google.colab.kernel.comms.open(id);\n",
              "      // Send a message to notify the kernel that we're ready.\n",
              "      channel.send({})\n",
              "\n",
              "      for await (const message of channel.messages) {\n",
              "        // Send a message to notify the kernel that we're ready.\n",
              "        channel.send({})\n",
              "        if (message.buffers) {\n",
              "          for (const buffer of message.buffers) {\n",
              "            buffers.push(buffer);\n",
              "            downloaded += buffer.byteLength;\n",
              "            progress.value = downloaded;\n",
              "          }\n",
              "        }\n",
              "      }\n",
              "      const blob = new Blob(buffers, {type: 'application/binary'});\n",
              "      const a = document.createElement('a');\n",
              "      a.href = window.URL.createObjectURL(blob);\n",
              "      a.download = filename;\n",
              "      div.appendChild(a);\n",
              "      a.click();\n",
              "      div.remove();\n",
              "    }\n",
              "  "
            ]
          },
          "metadata": {}
        },
        {
          "output_type": "display_data",
          "data": {
            "text/plain": [
              "<IPython.core.display.Javascript object>"
            ],
            "application/javascript": [
              "download(\"download_7df51b5c-bfef-44b4-a8ee-6b390ba386ac\", \"Neuron.pdf\", 150783)"
            ]
          },
          "metadata": {}
        },
        {
          "output_type": "execute_result",
          "data": {
            "text/plain": [
              "'File ready to be Downloaded and Saved to Drive'"
            ],
            "application/vnd.google.colaboratory.intrinsic+json": {
              "type": "string"
            }
          },
          "metadata": {},
          "execution_count": 16
        }
      ]
    }
  ],
  "metadata": {
    "kernelspec": {
      "display_name": "Python 3",
      "language": "python",
      "name": "python3"
    },
    "language_info": {
      "codemirror_mode": {
        "name": "ipython",
        "version": 3
      },
      "file_extension": ".py",
      "mimetype": "text/x-python",
      "name": "python",
      "nbconvert_exporter": "python",
      "pygments_lexer": "ipython3",
      "version": "3.8.8"
    },
    "colab": {
      "name": "Neuron.ipynb",
      "provenance": [],
      "collapsed_sections": []
    }
  },
  "nbformat": 4,
  "nbformat_minor": 0
}